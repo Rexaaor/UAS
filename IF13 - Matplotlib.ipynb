{
 "cells": [
  {
   "attachments": {},
   "cell_type": "markdown",
   "metadata": {},
   "source": [
    "# Proyek Analisis Data: E-Commerce Public Dataset\n",
    "- Kelompok : Kelompok 1\n",
    "- Anggota : </br>\n",
    "10122908 - Nizar Ihza Zulkarnain</br>\n",
    "10122911 - Tetta Trisky Theovana</br>\n",
    "10122912 - Annisaa Fitri</br>\n",
    "10122915 - Rexa Apriliandy Octaselena Rustam"
   ]
  },
  {
   "attachments": {},
   "cell_type": "markdown",
   "metadata": {},
   "source": [
    "## Menentukan Pertanyaan Bisnis"
   ]
  },
  {
   "attachments": {},
   "cell_type": "markdown",
   "metadata": {},
   "source": [
    "1. Produk apakah yang paling berat bobot dan dimensi dari produk tersebut dan masuk dalam kategori apa? - 10122908 - Nizar Ihza Zulkarnain\n",
    "2. Berapa jumlah produk category yang terdapat dalam dataset, dan bagaimana distribusinya? - 10122911 - Tetta Trisky Theovana\n",
    "3. Apa kategori produk yang paling populer? - 10122911 - Tetta Trisky Theovana\n",
    "4. Apa metode pembayaran yang paling umum digunakan oleh pelanggan? Berapakah transaksi tertinggi yang pernah dilakukan? - 10122912 - Annisaa Fitri\n",
    "5. Apa saja dan kemana saja distribusi transaksi berdasarkan kode pos pelanggan dalam dataset ini? Adakah kecenderungan kota tertentu atau pola geografis yang dapat diidentifikasi?  - 10122912 - Annisaa Fitri\n",
    "6. Berapakah jumlah total produk yang ada dalam dataset ini? Dan berapakah rata\" Harga dari pembelian produk? - 10122915 - Rexa Apriliandy Octaselena Rustam\n",
    "7. Berapa biaya freight value tertingginya? - 10122915 - Rexa Apriliandy Octaselena Rustam"
   ]
  },
  {
   "attachments": {},
   "cell_type": "markdown",
   "metadata": {},
   "source": [
    "## Menyaipkan semua library yang dibutuhkan"
   ]
  },
  {
   "cell_type": "code",
   "execution_count": 1,
   "metadata": {},
   "outputs": [],
   "source": [
    "import matplotlib.pyplot as plt\n",
    "import pandas as pd\n",
    "import numpy as np\n",
    "import seaborn as sns\n",
    "import squarify\n",
    "import os"
   ]
  },
  {
   "attachments": {},
   "cell_type": "markdown",
   "metadata": {},
   "source": [
    "## Data Wrangling"
   ]
  },
  {
   "attachments": {},
   "cell_type": "markdown",
   "metadata": {},
   "source": [
    "### Gathering Data"
   ]
  },
  {
   "cell_type": "code",
   "execution_count": 2,
   "metadata": {},
   "outputs": [],
   "source": [
    "#Mengambil Data Order dari Order Payments Dataset\n",
    "#Pertanyaan 1\n",
    "df_product = pd.read_csv(\"data/products_dataset.csv\", delimiter=',')\n",
    "\n",
    "#Pertanyaan 2 & 3\n",
    "df_products = pd.read_csv(\"data/product_category_name_translation.csv\", delimiter=',')\n",
    "\n",
    "#Pertanyaan 4 \n",
    "df_payment = pd.read_csv(\"data/order_payments_dataset.csv\", delimiter=',')\n",
    "\n",
    "#Pertanyaan 5\n",
    "df_customer = pd.read_csv(\"data/customers_dataset.csv\", delimiter=',')\n",
    "\n",
    "#Pertanyaan 6 & 7\n",
    "df_order_item = pd.read_csv(\"data/order_items_dataset.csv\", delimiter=',')"
   ]
  },
  {
   "attachments": {},
   "cell_type": "markdown",
   "metadata": {},
   "source": [
    "### Assessing Data"
   ]
  },
  {
   "cell_type": "code",
   "execution_count": 3,
   "metadata": {},
   "outputs": [
    {
     "data": {
      "text/plain": [
       "product_id                      0\n",
       "product_category_name         610\n",
       "product_name_lenght           610\n",
       "product_description_lenght    610\n",
       "product_photos_qty            610\n",
       "product_weight_g                2\n",
       "product_length_cm               2\n",
       "product_height_cm               2\n",
       "product_width_cm                2\n",
       "dtype: int64"
      ]
     },
     "execution_count": 3,
     "metadata": {},
     "output_type": "execute_result"
    }
   ],
   "source": [
    "#Pertanyaan 1\n",
    "df_product.isnull().sum()"
   ]
  },
  {
   "cell_type": "code",
   "execution_count": 4,
   "metadata": {},
   "outputs": [
    {
     "data": {
      "text/plain": [
       "product_category_name\n",
       "cama_mesa_banho                  3029\n",
       "esporte_lazer                    2867\n",
       "moveis_decoracao                 2657\n",
       "beleza_saude                     2444\n",
       "utilidades_domesticas            2335\n",
       "                                 ... \n",
       "fashion_roupa_infanto_juvenil       5\n",
       "casa_conforto_2                     5\n",
       "pc_gamer                            3\n",
       "seguros_e_servicos                  2\n",
       "cds_dvds_musicais                   1\n",
       "Name: count, Length: 73, dtype: int64"
      ]
     },
     "metadata": {},
     "output_type": "display_data"
    },
    {
     "name": "stdout",
     "output_type": "stream",
     "text": [
      "---------------------------------------------------------------------------------------------------------\n",
      "Produk yang paling berat dengan bobot 40425.0 gram.\n",
      "---------------------------------------------------------------------------------------------------------\n",
      "Dimensi produk yang paling berat: Panjang 13.0 cm, Tinggi 65.0 cm, Lebar 28.0 cm.\n",
      "---------------------------------------------------------------------------------------------------------\n",
      "ID produk yang paling berat adalah 26644690fde745fc4654719c3904e1db.\n",
      "---------------------------------------------------------------------------------------------------------\n",
      "Produk yang paling berat masuk ke dalam categori cama_mesa_banho.\n"
     ]
    }
   ],
   "source": [
    "#Pertanyaan 1\n",
    "df_product_category = df_product['product_category_name'].value_counts()\n",
    "display(df_product_category)\n",
    "\n",
    "print('---------------------------------------------------------------------------------------------------------')\n",
    "df_product_weight_max = df_product['product_weight_g'].max()\n",
    "print(f\"Produk yang paling berat dengan bobot {df_product_weight_max} gram.\")\n",
    "\n",
    "print('---------------------------------------------------------------------------------------------------------')\n",
    "df_product_weight_max = df_product['product_weight_g'].idxmax()\n",
    "\n",
    "df_product_length_max_weight = df_product.loc[df_product_weight_max, 'product_length_cm']\n",
    "df_product_height_max_weight = df_product.loc[df_product_weight_max, 'product_height_cm']\n",
    "df_product_width_max_weight = df_product.loc[df_product_weight_max, 'product_width_cm']\n",
    "\n",
    "print(f\"Dimensi produk yang paling berat: Panjang {df_product_length_max_weight} cm, Tinggi {df_product_height_max_weight} cm, Lebar {df_product_width_max_weight} cm.\")\n",
    "\n",
    "print('---------------------------------------------------------------------------------------------------------')\n",
    "df_product_weight_max = df_product['product_weight_g'].idxmax()\n",
    "\n",
    "df_product_id_max_weight = df_product.loc[df_product_weight_max, 'product_id']\n",
    "\n",
    "df_product_weight_max = df_product['product_weight_g'].max()\n",
    "\n",
    "print(f\"ID produk yang paling berat adalah {df_product_id_max_weight}.\")\n",
    "\n",
    "print('---------------------------------------------------------------------------------------------------------')\n",
    "df_product_weight_max = df_product['product_weight_g'].idxmax()\n",
    "\n",
    "df_product_category_max_weight = df_product.loc[df_product_weight_max, 'product_category_name']\n",
    "df_product_id_max_weight = df_product.loc[df_product_weight_max, 'product_id']\n",
    "df_product_weight_max = df_product['product_weight_g'].max()\n",
    "\n",
    "print(f\"Produk yang paling berat masuk ke dalam categori {df_product_category_max_weight}.\")\n"
   ]
  },
  {
   "cell_type": "code",
   "execution_count": 5,
   "metadata": {},
   "outputs": [
    {
     "data": {
      "text/plain": [
       "<bound method DataFrame.info of                                 order_id  payment_sequential payment_type  \\\n",
       "0       b81ef226f3fe1789b1e8b2acac839d17                   1  credit_card   \n",
       "1       a9810da82917af2d9aefd1278f1dcfa0                   1  credit_card   \n",
       "2       25e8ea4e93396b6fa0d3dd708e76c1bd                   1  credit_card   \n",
       "3       ba78997921bbcdc1373bb41e913ab953                   1  credit_card   \n",
       "4       42fdf880ba16b47b59251dd489d4441a                   1  credit_card   \n",
       "...                                  ...                 ...          ...   \n",
       "103881  0406037ad97740d563a178ecc7a2075c                   1       boleto   \n",
       "103882  7b905861d7c825891d6347454ea7863f                   1  credit_card   \n",
       "103883  32609bbb3dd69b3c066a6860554a77bf                   1  credit_card   \n",
       "103884  b8b61059626efa996a60be9bb9320e10                   1  credit_card   \n",
       "103885  28bbae6599b09d39ca406b747b6632b1                   1       boleto   \n",
       "\n",
       "        payment_installments  payment_value  \n",
       "0                          8          99.33  \n",
       "1                          1          24.39  \n",
       "2                          1          65.71  \n",
       "3                          8         107.78  \n",
       "4                          2         128.45  \n",
       "...                      ...            ...  \n",
       "103881                     1         363.31  \n",
       "103882                     2          96.80  \n",
       "103883                     1          47.77  \n",
       "103884                     5         369.54  \n",
       "103885                     1         191.58  \n",
       "\n",
       "[103886 rows x 5 columns]>"
      ]
     },
     "execution_count": 5,
     "metadata": {},
     "output_type": "execute_result"
    }
   ],
   "source": [
    "df_payment.info"
   ]
  },
  {
   "cell_type": "code",
   "execution_count": 6,
   "metadata": {},
   "outputs": [
    {
     "data": {
      "text/plain": [
       "product_id                      0\n",
       "product_category_name         610\n",
       "product_name_lenght           610\n",
       "product_description_lenght    610\n",
       "product_photos_qty            610\n",
       "product_weight_g                2\n",
       "product_length_cm               2\n",
       "product_height_cm               2\n",
       "product_width_cm                2\n",
       "dtype: int64"
      ]
     },
     "execution_count": 6,
     "metadata": {},
     "output_type": "execute_result"
    }
   ],
   "source": [
    "#Pertanyaan 2\n",
    "df_products.isnull().sum()"
   ]
  },
  {
   "cell_type": "code",
   "execution_count": 7,
   "metadata": {},
   "outputs": [
    {
     "ename": "NameError",
     "evalue": "name 'df_products' is not defined",
     "output_type": "error",
     "traceback": [
      "\u001b[1;31m---------------------------------------------------------------------------\u001b[0m",
      "\u001b[1;31mNameError\u001b[0m                                 Traceback (most recent call last)",
      "Cell \u001b[1;32mIn[7], line 2\u001b[0m\n\u001b[0;32m      1\u001b[0m \u001b[38;5;66;03m#Pertanyaan 2\u001b[39;00m\n\u001b[1;32m----> 2\u001b[0m df_product_category\u001b[38;5;241m=\u001b[39m \u001b[43mdf_products\u001b[49m[\u001b[38;5;124m'\u001b[39m\u001b[38;5;124mproduct_category_name\u001b[39m\u001b[38;5;124m'\u001b[39m]\n\u001b[0;32m      3\u001b[0m display(df_product_category)\n\u001b[0;32m      5\u001b[0m \u001b[38;5;28mprint\u001b[39m(\u001b[38;5;124m'\u001b[39m\u001b[38;5;124m---------------------------------------------------------------------------------------------------------\u001b[39m\u001b[38;5;124m'\u001b[39m)\n",
      "\u001b[1;31mNameError\u001b[0m: name 'df_products' is not defined"
     ]
    }
   ],
   "source": [
    "#Pertanyaan 2\n",
    "df_product_category= df_products['product_category_name']\n",
    "display(df_product_category)\n",
    "\n",
    "print('---------------------------------------------------------------------------------------------------------')\n",
    "df_product_category= df_products['product_category_name'].nunique()\n",
    "print(\"\\nJumlah produk dalam dataset: {}\".format(df_product_category))\n",
    "\n",
    "print('---------------------------------------------------------------------------------------------------------')\n",
    "df_product_english = df_products['product_category_name_english'].value_counts()\n",
    "print(\"\\nDistribusi produk:\")\n",
    "print(df_product_english)"
   ]
  },
  {
   "cell_type": "code",
   "execution_count": null,
   "metadata": {},
   "outputs": [],
   "source": [
    "#Pertanyaan 3\n",
    "kategori_populer = df_product_english.idxmax()\n",
    "print(\"\\nKategori produk paling populer: {}\".format(kategori_populer))"
   ]
  },
  {
   "cell_type": "code",
   "execution_count": null,
   "metadata": {},
   "outputs": [],
   "source": [
    "#Pertanyaan 4\n",
    "df_payment.isnull().sum()"
   ]
  },
  {
   "cell_type": "code",
   "execution_count": null,
   "metadata": {},
   "outputs": [],
   "source": [
    "#Pertanyaan 4\n",
    "df_payment_types = df_payment['payment_type']\n",
    "display(df_payment_types)"
   ]
  },
  {
   "cell_type": "code",
   "execution_count": null,
   "metadata": {},
   "outputs": [],
   "source": [
    "#Pertanyaan 5\n",
    "df_customer.isnull().sum()"
   ]
  },
  {
   "cell_type": "code",
   "execution_count": null,
   "metadata": {},
   "outputs": [],
   "source": [
    "#Pertanyaan 5\n",
    "df_customer_code = df_customer[['customer_zip_code_prefix','customer_city']]\n",
    "display(df_customer_code)\n",
    "\n",
    "print('---------------------------------------------------------------------------------------------------------')\n",
    "unique_zip_codes_by_city = df_customer.groupby('customer_city')['customer_zip_code_prefix'].nunique().reset_index()\n",
    "sorted_unique_zip_codes = unique_zip_codes_by_city.sort_values(by='customer_zip_code_prefix', ascending=False)\n",
    "print(sorted_unique_zip_codes)\n",
    "\n",
    "print('---------------------------------------------------------------------------------------------------------')\n",
    "df_customer_city= df_customer['customer_city'].nunique()\n",
    "print(\"\\nJumlah kota dalam dataset: {}\".format(df_customer_city))\n",
    "\n",
    "print('---------------------------------------------------------------------------------------------------------')\n",
    "df_customer_code = df_customer['customer_zip_code_prefix'].value_counts()\n",
    "print(df_customer_code)\n",
    "\n",
    "print('---------------------------------------------------------------------------------------------------------')\n",
    "df_customer_city_count = df_customer['customer_city'].value_counts()\n",
    "print(df_customer_city_count)"
   ]
  },
  {
   "cell_type": "code",
   "execution_count": null,
   "metadata": {},
   "outputs": [],
   "source": [
    "#Pertanyaan 6\n",
    "display(df_order_item.isnull().sum())\n",
    "\n",
    "print('---------------------------------------------------------------------------------------------------------')\n",
    "display(df_product.isnull().sum())"
   ]
  },
  {
   "cell_type": "code",
   "execution_count": null,
   "metadata": {},
   "outputs": [],
   "source": [
    "#Pertanyaan 6\n",
    "df_total_item = df_product['product_id']\n",
    "display(df_total_item)\n",
    "\n",
    "print('---------------------------------------------------------------------------------------------------------')\n",
    "df_order_price = df_order_item['price']\n",
    "display(df_order_price)\n",
    "\n",
    "print('---------------------------------------------------------------------------------------------------------')\n",
    "df_payment_value = df_payment['payment_value']\n",
    "display(df_payment_value)"
   ]
  },
  {
   "cell_type": "code",
   "execution_count": null,
   "metadata": {},
   "outputs": [],
   "source": [
    "#Pertanyaan 7\n",
    "df_order_freight = df_order_item['freight_value']\n",
    "display(df_order_freight)"
   ]
  },
  {
   "attachments": {},
   "cell_type": "markdown",
   "metadata": {},
   "source": [
    "### Cleaning Data"
   ]
  },
  {
   "cell_type": "code",
   "execution_count": null,
   "metadata": {},
   "outputs": [],
   "source": [
    "#Pertanyaan 6\n",
    "df_payment_cleaned = df_payment[df_payment['payment_type'] != 'not_defined']\n",
    "display(df_payment_cleaned['payment_type'].value_counts())"
   ]
  },
  {
   "cell_type": "code",
   "execution_count": null,
   "metadata": {},
   "outputs": [],
   "source": [
    "#Pertanyaan 6 & 7\n",
    "df_product_cleaned = df_product.dropna()\n",
    "df_product_cleaned.isnull().sum()"
   ]
  },
  {
   "attachments": {},
   "cell_type": "markdown",
   "metadata": {},
   "source": [
    "## Exploratory Data Analysis (EDA)"
   ]
  },
  {
   "attachments": {},
   "cell_type": "markdown",
   "metadata": {},
   "source": [
    "### Explore ..."
   ]
  },
  {
   "cell_type": "code",
   "execution_count": null,
   "metadata": {},
   "outputs": [],
   "source": [
    "#Pertanyaan 1\n",
    "display(df_product.head())\n",
    "\n",
    "print('---------------------------------------------------------------------------------------------------------')\n",
    "print(\"Info dataset:\")\n",
    "df_product.info()\n",
    "\n",
    "print('---------------------------------------------------------------------------------------------------------')\n",
    "print(\"\\nStatistik deskriptif:\")\n",
    "print(df_product.describe())"
   ]
  },
  {
   "cell_type": "code",
   "execution_count": null,
   "metadata": {},
   "outputs": [],
   "source": [
    "#Pertanyaan 2 & 3\n",
    "display(df_products.head())\n",
    "\n",
    "print('---------------------------------------------------------------------------------------------------------')\n",
    "print(\"Info dataset:\")\n",
    "df_products.info()\n",
    "\n",
    "print('---------------------------------------------------------------------------------------------------------')\n",
    "print(\"\\nStatistik deskriptif:\")\n",
    "print(df_products.describe())"
   ]
  },
  {
   "cell_type": "code",
   "execution_count": null,
   "metadata": {},
   "outputs": [],
   "source": [
    "#Pertanyaan 4\n",
    "display(df_payment.info())\n",
    "\n",
    "print('---------------------------------------------------------------------------------------------------------')\n",
    "df_payment_types = df_payment['payment_type'].value_counts()\n",
    "display(df_payment_types)\n",
    "\n",
    "print('---------------------------------------------------------------------------------------------------------')\n",
    "df_payment_value_max = df_payment['payment_value'].max()\n",
    "print('Pembayaran Tertinggi :',df_payment_value_max)"
   ]
  },
  {
   "cell_type": "code",
   "execution_count": null,
   "metadata": {},
   "outputs": [],
   "source": [
    "#Pertanyaan 5\n",
    "display(df_customer.info())\n",
    "\n",
    "print('---------------------------------------------------------------------------------------------------------')\n",
    "display(df_customer.head())\n",
    "\n",
    "print('---------------------------------------------------------------------------------------------------------')\n",
    "city_counts = df_customer['customer_city'].value_counts()\n",
    "top_10_cities = city_counts.head(10).index\n",
    "df_top_cities = pd.DataFrame({'customer_city': top_10_cities, 'total_customers': city_counts.head(10).values})\n",
    "df_top_cities\n",
    "\n",
    "print('---------------------------------------------------------------------------------------------------------')\n",
    "print(\"\\nStatistik deskriptif:\")\n",
    "print(df_customer.describe())"
   ]
  },
  {
   "cell_type": "code",
   "execution_count": null,
   "metadata": {},
   "outputs": [],
   "source": [
    "#Pertanyaan 6\n",
    "display(df_product.info())\n",
    "\n",
    "print('---------------------------------------------------------------------------------------------------------')\n",
    "df_total_item = df_product['product_id'].count()\n",
    "print('Total Item : ',df_total_item)\n",
    "\n",
    "print('---------------------------------------------------------------------------------------------------------')\n",
    "df_order_price = round(df_order_item['price'].mean())\n",
    "print('Harga rata-rata pembelian produk sebesar  : $',df_order_price)"
   ]
  },
  {
   "cell_type": "code",
   "execution_count": null,
   "metadata": {},
   "outputs": [],
   "source": [
    "#Pertanyaan 7\n",
    "display(df_order_item.info())\n",
    "\n",
    "print('---------------------------------------------------------------------------------------------------------')\n",
    "df_order_freight = df_order_item['freight_value']\n",
    "display(df_order_freight)\n",
    "\n",
    "print('---------------------------------------------------------------------------------------------------------')\n",
    "df_order_freight = df_order_item['freight_value'].max()\n",
    "print('Freight value tertinggi adalah sebesar : $',df_order_freight)"
   ]
  },
  {
   "attachments": {},
   "cell_type": "markdown",
   "metadata": {},
   "source": [
    "## Visualization & Explanatory Analysis"
   ]
  },
  {
   "cell_type": "markdown",
   "metadata": {},
   "source": [
    "## Pertanyaan 1"
   ]
  },
  {
   "cell_type": "code",
   "execution_count": null,
   "metadata": {},
   "outputs": [],
   "source": [
    "# Pertanyaan 1\n",
    "plt.figure(figsize=(12, 6))\n",
    "kategori = df_product['product_category_name'].value_counts().head(10)\n",
    "sns.countplot(x='product_category_name', data=df_product, order=kategori.index, palette=['red' if cat == kategori.idxmax() else 'blue' for cat in kategori.index])\n",
    "plt.title('Kategori Produk')\n",
    "plt.xticks(rotation=45, ha='right')\n",
    "plt.show()\n"
   ]
  },
  {
   "cell_type": "code",
   "execution_count": null,
   "metadata": {},
   "outputs": [],
   "source": [
    "df_numeric = df_product.drop(['product_id', 'product_category_name'], axis=1)\n",
    "\n",
    "plt.figure(figsize=(10, 8))\n",
    "sns.heatmap(df_numeric.corr(), annot=True, cmap='coolwarm', fmt=\".2f\", linewidths=0.5)\n",
    "plt.title('Korelasi Antar Fitur Numerik')\n",
    "plt.show()"
   ]
  },
  {
   "cell_type": "code",
   "execution_count": null,
   "metadata": {},
   "outputs": [],
   "source": [
    "plt.figure(figsize=(10, 6))\n",
    "sns.histplot(df_product['product_weight_g'], bins=30, kde=True)\n",
    "plt.title('Distribusi Berat Produk')\n",
    "plt.xlabel('Berat Produk (gram)')\n",
    "plt.ylabel('Frekuensi')\n",
    "plt.show()"
   ]
  },
  {
   "cell_type": "code",
   "execution_count": null,
   "metadata": {},
   "outputs": [],
   "source": [
    "sns.pairplot(df_product[['product_name_lenght', 'product_description_lenght', 'product_photos_qty', 'product_weight_g']])\n",
    "plt.suptitle('Pairplot untuk Fitur Numerik')\n",
    "plt.show()"
   ]
  },
  {
   "cell_type": "code",
   "execution_count": null,
   "metadata": {},
   "outputs": [],
   "source": [
    "plt.figure(figsize=(12, 6))\n",
    "sns.boxplot(x='product_category_name', y='product_weight_g', data=df_product)\n",
    "plt.title('Distribusi Berat Produk Berdasarkan Kategori')\n",
    "plt.xticks(rotation=45, ha='right')\n",
    "plt.show()"
   ]
  },
  {
   "cell_type": "markdown",
   "metadata": {},
   "source": [
    "## Pertanyaan 2"
   ]
  },
  {
   "cell_type": "code",
   "execution_count": null,
   "metadata": {},
   "outputs": [],
   "source": [
    "distribusi_produk = df_products['product_category_name_english'].value_counts()\n",
    "top_produk = distribusi_produk.head(10)\n",
    "top_produk.plot(kind='bar', figsize=(10, 6), color='skyblue')\n",
    "plt.title('Distribusi Produk')\n",
    "plt.xlabel('Nama Kategori Produk')\n",
    "plt.ylabel('Jumlah Produk')\n",
    "plt.show()"
   ]
  },
  {
   "cell_type": "code",
   "execution_count": null,
   "metadata": {},
   "outputs": [],
   "source": [
    "#semua produk\n",
    "plt.figure(figsize=(12, 6))\n",
    "sns.countplot(x='product_category_name', data=df_product, order=df_product['product_category_name'].value_counts().index)\n",
    "plt.title('Distribusi Kategori Produk')\n",
    "plt.xticks(rotation=45, ha='right')\n",
    "plt.show()"
   ]
  },
  {
   "cell_type": "markdown",
   "metadata": {},
   "source": [
    "## Pertanyaan 3"
   ]
  },
  {
   "cell_type": "code",
   "execution_count": null,
   "metadata": {},
   "outputs": [],
   "source": [
    "plt.figure(figsize=(12, 6))\n",
    "sns.barplot(x=distribusi_produk.head(10).index, y=distribusi_produk.head(10).values)\n",
    "plt.title('Distribusi Produk - 10 Produk Teratas')\n",
    "plt.xlabel('Nama Kategori Produk')\n",
    "plt.ylabel('Jumlah Produk')\n",
    "plt.xticks(rotation=45, ha='right')\n",
    "plt.show()"
   ]
  },
  {
   "cell_type": "markdown",
   "metadata": {},
   "source": [
    "## Pertanyaan 4"
   ]
  },
  {
   "cell_type": "code",
   "execution_count": null,
   "metadata": {},
   "outputs": [],
   "source": [
    "display(df_payment_types)\n",
    "plt.figure(figure=(8,6))\n",
    "sns.countplot(x='payment_type', data=df_payment_cleaned)\n",
    "plt.title('Distribusi Jenis Pembayaran')\n",
    "plt.show()\n",
    "\n",
    "display(df_payment_value_max)"
   ]
  },
  {
   "cell_type": "code",
   "execution_count": null,
   "metadata": {},
   "outputs": [],
   "source": [
    "df_order_price = df_order_item['price']\n",
    "\n",
    "# Menghitung nilai min, mean, dan max\n",
    "price_min_value = df_order_price.min()\n",
    "price_mean_value = df_order_price.mean()\n",
    "price_max_value = df_order_price.max()\n",
    "\n",
    "# Membuat histogram dengan seaborn\n",
    "plt.figure(figsize=(10, 6))\n",
    "sns.histplot(df_order_price, bins=20, kde=True, color='skyblue', edgecolor='black')\n",
    "\n",
    "# Menambahkan garis vertikal untuk rata-rata\n",
    "plt.axvline(x=price_mean_value, color='red', linestyle='--', label=f'Rata-rata ({price_mean_value:.2f})')\n",
    "\n",
    "plt.title('Distribusi Harga Pembelian Produk')\n",
    "plt.xlabel('Harga ($)')\n",
    "plt.ylabel('Frekuensi')\n",
    "plt.legend()\n",
    "plt.show()"
   ]
  },
  {
   "attachments": {},
   "cell_type": "markdown",
   "metadata": {},
   "source": [
    "## Pertanyaan 5"
   ]
  },
  {
   "cell_type": "code",
   "execution_count": null,
   "metadata": {},
   "outputs": [],
   "source": [
    "#Pola distribusi Kode Pos Pelanggan\n",
    "distribusi_customer = df_customer['customer_zip_code_prefix'].value_counts()\n",
    "top_customer = distribusi_customer.head(10)\n",
    "top_customer.plot(kind='bar', figsize=(10, 7), color='red')\n",
    "plt.title('Distribusi Customer')\n",
    "plt.xlabel('Nama Kode Pos Customer')\n",
    "plt.ylabel('Jumlah Customer')\n",
    "plt.show()"
   ]
  },
  {
   "cell_type": "code",
   "execution_count": null,
   "metadata": {},
   "outputs": [],
   "source": [
    "city_counts = df_customer['customer_city'].value_counts()\n",
    "top_10_cities = city_counts.head(10).index\n",
    "df_top_cities = pd.DataFrame({'customer_city': top_10_cities, 'total_customers': city_counts.head(10).values})\n",
    "colors = ['skyblue' if city != df_top_cities.iloc[0]['customer_city'] else 'red' for city in df_top_cities['customer_city']]\n",
    "\n",
    "# Menampilkan bar chart\n",
    "plt.figure(figsize=(6, 6))\n",
    "sns.barplot(x='customer_city', y='total_customers', data=df_top_cities, hue='customer_city', palette=colors, legend=False)\n",
    "plt.title('Top 10 Cities by Total Customers')\n",
    "plt.xlabel('Customer City')\n",
    "plt.ylabel('Total Customers')\n",
    "plt.xticks(rotation=45, ha='right')  \n",
    "plt.show()"
   ]
  },
  {
   "cell_type": "markdown",
   "metadata": {},
   "source": [
    "## Pertanyaan 6"
   ]
  },
  {
   "cell_type": "code",
   "execution_count": null,
   "metadata": {},
   "outputs": [],
   "source": [
    "df_count = df_product.count()\n",
    "df_total_item = df_product['product_id'].count()\n",
    "\n",
    "# Membuat plot\n",
    "plt.plot(df_count, marker='o', linestyle='-', color='#0f7216')\n",
    "\n",
    "# Menambahkan angka pada titik-titik yang berbeda\n",
    "for i in range(len(df_count) - 1):\n",
    "    # Tampilkan angka jika berbeda dengan angka sesudahnya\n",
    "    if df_count.iloc[i] != df_count.iloc[i+1]:\n",
    "        plt.text(df_count.index[i], df_count.iloc[i], f'{df_count.iloc[i]}', ha='center', va='bottom')\n",
    "\n",
    "# Tambahkan angka untuk elemen terakhir\n",
    "plt.text(df_count.index[len(df_count) - 1], df_count.iloc[len(df_count) - 1], f'{df_count.iloc[len(df_count) - 1]}', ha='center', va='bottom')\n",
    "\n",
    "# Sembunyikan label sumbu x\n",
    "plt.xticks(rotation=45, ha='right')\n",
    "\n",
    "plt.title('Data Item Marketplace X')\n",
    "plt.ylabel('Jumlah Data')\n",
    "\n",
    "plt.show()\n"
   ]
  },
  {
   "cell_type": "code",
   "execution_count": null,
   "metadata": {},
   "outputs": [],
   "source": [
    "df_order_price = df_order_item['price']\n",
    "\n",
    "# Hitung nilai min, mean, dan max\n",
    "price_min_value = df_order_price.min()\n",
    "price_mean_value = df_order_price.mean()\n",
    "price_max_value = df_order_price.max()\n",
    "\n",
    "# Membuat plot\n",
    "plt.plot(df_order_price)\n",
    "\n",
    "# Menambahkan garis horizontal untuk min, mean, dan max\n",
    "plt.axhline(y=price_min_value, color='red', linestyle='--', label=f'Min ({price_min_value:.2f})')\n",
    "plt.axhline(y=price_mean_value, color='green', linestyle='--', label=f'Rata-rata ({price_mean_value:.2f})')\n",
    "plt.axhline(y=price_max_value, color='blue', linestyle='--', label=f'Max ({price_max_value:.2f})')\n",
    "\n",
    "plt.xticks(rotation=45, ha='right')\n",
    "plt.title('Data Transaksi pada Marketplace X')\n",
    "plt.ylabel('Value')\n",
    "plt.xlabel('Data')\n",
    "\n",
    "# Menampilkan legenda\n",
    "plt.legend()\n",
    "\n",
    "plt.show()"
   ]
  },
  {
   "cell_type": "markdown",
   "metadata": {},
   "source": [
    "## Pertanyaan 7"
   ]
  },
  {
   "cell_type": "code",
   "execution_count": null,
   "metadata": {},
   "outputs": [],
   "source": [
    "freight_max_value = df_order_item['freight_value'].max()\n",
    "freight_mean_value = df_order_item['freight_value'].mean()\n",
    "freight_min_value = df_order_item['freight_value'].min()\n",
    "\n",
    "# Menampilkan informasi\n",
    "print(f'Max Value: {freight_max_value}')\n",
    "print(f'Rata-rata Value: {freight_mean_value}')\n",
    "print(f'Min Value: {freight_min_value}')\n",
    "\n",
    "# Visualisasi dengan bar chart\n",
    "plt.figure(figsize=(8, 6))\n",
    "\n",
    "# Membuat bar plot\n",
    "ax = sns.barplot(x=['Max', 'Mean', 'Min'], y=[freight_max_value, freight_mean_value, freight_min_value], hue=['Max', 'Mean', 'Min'],\n",
    "                 palette=['#ea3033', '#ffe9a3', '#0f7216'], legend=False)\n",
    "\n",
    "# Menambahkan label angka pada setiap bar\n",
    "for p in ax.patches:\n",
    "    ax.annotate(f'{p.get_height():.2f}', (p.get_x() + p.get_width() / 2., p.get_height()),\n",
    "                ha='center', va='center', xytext=(0, 10), textcoords='offset points')\n",
    "\n",
    "plt.ylabel('Freight Value')\n",
    "plt.title('Maximun, Rata-Rata dan Minimun Freight Value')\n",
    "plt.show()"
   ]
  },
  {
   "attachments": {},
   "cell_type": "markdown",
   "metadata": {},
   "source": [
    "# Conclusion"
   ]
  },
  {
   "cell_type": "markdown",
   "metadata": {},
   "source": [
    "## Pertanyaan 1\n",
    "Berdasarkan diagram batang diatas, Produk yang paling berat bobotnya memiliki id **26644690fde745fc4654719c3904e1db**.</br>\n",
    "Yang memiliki berat **40425.0 gram** dan memiliki Dimensi **Panjang 13.0 cm**, **Tinggi 65.0 cm**, **Lebar 28.0 cm**.\n",
    "\n",
    "Produk yang paling berat tersebut masuk ke dalam kategori **cama_mesa_banho**"
   ]
  },
  {
   "cell_type": "markdown",
   "metadata": {},
   "source": [
    "## Pertanyaan 2\n",
    "Jadi Jumlah Produk Dalam Dataset itu sebanyak 71 unik category data. Lalu distribusinya untuk 10 tersebar lumayan dominan ke cama_mesa_banho"
   ]
  },
  {
   "cell_type": "markdown",
   "metadata": {},
   "source": [
    "## Pertanyaan 3\n",
    "Kategori produk yang paling populer adalah **health_beauty**"
   ]
  },
  {
   "cell_type": "markdown",
   "metadata": {},
   "source": [
    "## Pertanyaan 4\n",
    "Berdasarkan diagram batang, **Credit Card** merupakan pembayaran yang paling umum digunakan oleh para pelanggan. </br> \n",
    "Untuk Transaksi tertinggi yang pernah dilakukan sebesar **$13664.08**."
   ]
  },
  {
   "cell_type": "markdown",
   "metadata": {},
   "source": [
    "## Pertanyaan 5\n",
    "Jadi Pengiriman terbanyak berdasarkan kode pos yaitu ke daerah Sao Paulo dengan jumlah **15.540** transaksi dengan **2843** kode unik kode pos. Maka kecenderungan transaksi itu terpusat pada kota kota besar dengan rata-rata diatas 1000 transaksi customer. Untuk Transaksi terbanyak pada kode pos 22790 dengan jumlah **142** transaksi customer.  "
   ]
  },
  {
   "cell_type": "markdown",
   "metadata": {},
   "source": [
    "## Pertanyaan 6\n",
    "Jumlah Produk Yang terdapat pada Marketplace itu sebanyak **32951**. Sedangkan untuk Rata-rata harga dari pembelian pada sebuah transaksi ialah 120.65 atau dibulatkan menjadi **121**."
   ]
  },
  {
   "cell_type": "markdown",
   "metadata": {},
   "source": [
    "## Pertanyaan 7\n",
    "Freight Value atau biaya transportasi tertinggi itu sebesar 409.68 dibulatkan menjadi **410**."
   ]
  }
 ],
 "metadata": {
  "kernelspec": {
   "display_name": "Python 3 (ipykernel)",
   "language": "python",
   "name": "python3"
  },
  "language_info": {
   "codemirror_mode": {
    "name": "ipython",
    "version": 3
   },
   "file_extension": ".py",
   "mimetype": "text/x-python",
   "name": "python",
   "nbconvert_exporter": "python",
   "pygments_lexer": "ipython3",
   "version": "3.9.13"
  },
  "vscode": {
   "interpreter": {
    "hash": "972b3bf27e332e87b5379f2791f6ef9dfc79c71018c370b0d7423235e20fe4d7"
   }
  }
 },
 "nbformat": 4,
 "nbformat_minor": 4
}
